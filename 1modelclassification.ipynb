{
  "cells": [
    {
      "cell_type": "markdown",
      "metadata": {
        "id": "view-in-github",
        "colab_type": "text"
      },
      "source": [
        "<a href=\"https://colab.research.google.com/github/suke-bhargav/BREAST-CANCER-CBISDDSM/blob/main/1modelclassification.ipynb\" target=\"_parent\"><img src=\"https://colab.research.google.com/assets/colab-badge.svg\" alt=\"Open In Colab\"/></a>"
      ]
    },
    {
      "cell_type": "code",
      "source": [
        "import os\n",
        "import tensorflow as tf\n",
        "import shutil\n",
        "import pandas as pd\n",
        "import sys\n",
        "import matplotlib.pyplot as plt\n",
        "import matplotlib.image as mpimg\n",
        "import cv2"
      ],
      "metadata": {
        "id": "0rWAox1M6TfB"
      },
      "execution_count": null,
      "outputs": []
    },
    {
      "cell_type": "code",
      "source": [
        "current_working_directory = os.getcwd()\n",
        "\n",
        "# print output to the console\n",
        "print(current_working_directory)\n"
      ],
      "metadata": {
        "id": "rxfMjAEb6Tcj"
      },
      "execution_count": null,
      "outputs": []
    },
    {
      "cell_type": "code",
      "source": [
        "from google.colab import files\n",
        "from os import environ"
      ],
      "metadata": {
        "id": "xgbAzopv6TZy"
      },
      "execution_count": null,
      "outputs": []
    },
    {
      "cell_type": "code",
      "source": [
        "!pip install -q kaggle"
      ],
      "metadata": {
        "id": "sRhZAZ_B6TWy"
      },
      "execution_count": null,
      "outputs": []
    },
    {
      "cell_type": "code",
      "source": [
        "# upload kaggle API key\n",
        "uploaded = files.upload()"
      ],
      "metadata": {
        "id": "6Je12mxg6TUH"
      },
      "execution_count": null,
      "outputs": []
    },
    {
      "cell_type": "code",
      "source": [
        "# define kaggle config folder\n",
        "! mkdir \"./kaggle\" && mv \"./kaggle.json\" \"./kaggle/kaggle.json\"\n",
        "environ['KAGGLE_CONFIG_DIR'] = './kaggle'\n",
        "\n",
        "# hide kaggle API key for other users\n",
        "! chmod 600 ./kaggle/kaggle.json\n"
      ],
      "metadata": {
        "id": "dbb4aki76TRk"
      },
      "execution_count": null,
      "outputs": []
    },
    {
      "cell_type": "code",
      "source": [
        "# fetch kaggle dataset\n",
        "!kaggle datasets download -d awsaf49/cbis-ddsm-breast-cancer-image-dataset\n",
        "!unzip \"./*.zip\" && rm *.zip-"
      ],
      "metadata": {
        "id": "a_m70Ogf6TOr"
      },
      "execution_count": null,
      "outputs": []
    },
    {
      "cell_type": "code",
      "source": [
        "csv_path = '/content/csv/meta.csv'\n",
        "df_meta = pd.read_csv(csv_path)\n",
        "dicom_data = pd.read_csv('/content/csv/dicom_info.csv')"
      ],
      "metadata": {
        "id": "O3kn3YsY6TMB"
      },
      "execution_count": null,
      "outputs": []
    },
    {
      "cell_type": "code",
      "source": [
        "image_dir = '/content/jpeg'\n",
        "full_mammogram_images = dicom_data[dicom_data.SeriesDescription == 'full mammogram images'].image_path\n",
        "cropped_images = dicom_data[dicom_data.SeriesDescription == 'cropped images'].image_path\n",
        "roi_mask_images = dicom_data[dicom_data.SeriesDescription == 'ROI mask images'].image_path\n",
        "\n",
        "full_mammogram_images = full_mammogram_images.apply(lambda x: x.replace('CBIS-DDSM/jpeg', image_dir))\n",
        "roi_mask_images = roi_mask_images.apply(lambda x: x.replace('CBIS-DDSM/jpeg', image_dir))\n",
        "full_mammogram_images.iloc[0]\n",
        "cropped_images.iloc[0]"
      ],
      "metadata": {
        "id": "sV4CoZHd6TJP"
      },
      "execution_count": null,
      "outputs": []
    },
    {
      "cell_type": "code",
      "source": [
        "full_mammogram_dict = dict()\n",
        "cropped_dict = dict()\n",
        "roi_mask_dict = dict()\n",
        "\n",
        "for dicom in full_mammogram_images:\n",
        "    # print(dicom)\n",
        "    key = dicom.split(\"/\")[3]\n",
        "    # print(key)\n",
        "    full_mammogram_dict[key] = dicom\n",
        "for dicom in cropped_images:\n",
        "    key = dicom.split(\"/\")[3]\n",
        "    cropped_dict[key] = dicom\n",
        "for dicom in roi_mask_images:\n",
        "    key = dicom.split(\"/\")[3]\n",
        "    roi_mask_dict[key] = dicom"
      ],
      "metadata": {
        "id": "xOZDaECb6TGl"
      },
      "execution_count": null,
      "outputs": []
    },
    {
      "cell_type": "code",
      "source": [
        "mass_train_data = pd.read_csv('/content/csv/mass_case_description_train_set.csv')\n",
        "mass_test_data = pd.read_csv('/content/csv/mass_case_description_test_set.csv')\n",
        "calc_train_data = pd.read_csv('/content/csv/calc_case_description_train_set.csv')\n",
        "calc_test_data = pd.read_csv('/content/csv/calc_case_description_test_set.csv')"
      ],
      "metadata": {
        "id": "3Pq3cD_a6smr"
      },
      "execution_count": null,
      "outputs": []
    },
    {
      "cell_type": "code",
      "source": [
        "def filter_dataframe_by_base_directory(df):\n",
        "    base_directory = '/content/jpeg'\n",
        "\n",
        "    # Check if all three columns start with the base directory\n",
        "    mask = (\n",
        "        df['image file path'].str.startswith(base_directory) &\n",
        "        df['cropped image file path'].str.startswith(base_directory) &\n",
        "        df['ROI mask file path'].str.startswith(base_directory)\n",
        "    )\n",
        "\n",
        "    # Keep only the rows where all three columns start with the base directory\n",
        "    filtered_df = df[mask]\n",
        "\n",
        "    return filtered_df"
      ],
      "metadata": {
        "id": "RVvgFojT6sjE"
      },
      "execution_count": null,
      "outputs": []
    },
    {
      "cell_type": "code",
      "source": [
        "def fix_image_path_mass(dataset):\n",
        "    for i, img in enumerate(dataset.values):\n",
        "        img_name = img[11].split(\"/\")[2]\n",
        "        if img_name in full_mammogram_dict:\n",
        "            dataset.iloc[i, 11] = full_mammogram_dict[img_name]\n",
        "\n",
        "        img_name = img[12].split(\"/\")[2]\n",
        "        if img_name in cropped_dict:\n",
        "            dataset.iloc[i, 12] = cropped_dict[img_name]\n",
        "\n",
        "        img_name = img[13].split(\"/\")[2]\n",
        "        if img_name in roi_mask_dict:\n",
        "            dataset.iloc[i, 13] = roi_mask_dict[img_name]"
      ],
      "metadata": {
        "id": "9ob3pvk26sg9"
      },
      "execution_count": null,
      "outputs": []
    },
    {
      "cell_type": "code",
      "source": [
        "fix_image_path_mass(mass_train_data)\n",
        "fix_image_path_mass(mass_test_data)"
      ],
      "metadata": {
        "id": "v786epCw6se4"
      },
      "execution_count": null,
      "outputs": []
    },
    {
      "cell_type": "code",
      "source": [
        "mass_train = mass_train_data.rename(columns={'left or right breast': 'left_or_right_breast',\n",
        "                                           'image view': 'image_view',\n",
        "                                           'abnormality id': 'abnormality_id',\n",
        "                                           'abnormality type': 'abnormality_type',\n",
        "                                           'mass shape': 'mass_shape',\n",
        "                                           'mass margins': 'mass_margins',\n",
        "                                           'image file path': 'image_file_path',\n",
        "                                           'cropped image file path': 'cropped_image_file_path',\n",
        "                                           'ROI mask file path': 'ROI_mask_file_path'})\n",
        "mass_test = mass_test_data.rename(columns={'left or right breast': 'left_or_right_breast',\n",
        "                                           'image view': 'image_view',\n",
        "                                           'abnormality id': 'abnormality_id',\n",
        "                                           'abnormality type': 'abnormality_type',\n",
        "                                           'mass shape': 'mass_shape',\n",
        "                                           'mass margins': 'mass_margins',\n",
        "                                           'image file path': 'image_file_path',\n",
        "                                           'cropped image file path': 'cropped_image_file_path',\n",
        "                                           'ROI mask file path': 'ROI_mask_file_path'})\n"
      ],
      "metadata": {
        "id": "8ZcvYteI6sc2"
      },
      "execution_count": null,
      "outputs": []
    },
    {
      "cell_type": "code",
      "source": [
        "mass_train\n"
      ],
      "metadata": {
        "id": "LIcCMMjb6sar"
      },
      "execution_count": null,
      "outputs": []
    },
    {
      "cell_type": "code",
      "source": [
        "mass_train.mass_shape.unique()\n"
      ],
      "metadata": {
        "id": "cPx4umhv6sYM"
      },
      "execution_count": null,
      "outputs": []
    },
    {
      "cell_type": "code",
      "source": [
        "mass_train.pathology.unique()\n",
        "\n",
        "benign=mass_train[mass_train.pathology==\"BENIGN\"]\n",
        "\n",
        "benignwoclbk=mass_train[mass_train.pathology==\"BENIGN_WITHOUT_CALLBACK\"]\n",
        "malignant=mass_train[mass_train.pathology==\"MALIGNANT\"]\n"
      ],
      "metadata": {
        "id": "LXb5vd9O6sWM"
      },
      "execution_count": null,
      "outputs": []
    },
    {
      "cell_type": "code",
      "source": [
        "benignimgs=benign.image_file_path\n",
        "malignantimgs=malignant.image_file_path\n",
        "benignwoclbkimgs=benignwoclbk.image_file_path\n",
        "ben='/content/class/benign'\n",
        "benwcb='/content/class/benignwithoutcallback'\n",
        "mal='/content/class/malignant'\n",
        "os.makedirs(ben,exist_ok=True)\n",
        "os.makedirs(mal,exist_ok=True)"
      ],
      "metadata": {
        "id": "DxAYAeEB8fVf"
      },
      "execution_count": null,
      "outputs": []
    },
    {
      "cell_type": "code",
      "source": [
        "for ben_path in benignimgs:\n",
        "  img_filename1=os.path.basename(ben_path)\n",
        "  destination_path1=os.path.join(ben,img_filename1)\n",
        "  shutil.copy(ben_path,destination_path1)\n",
        "\n",
        "for mal_path in malignantimgs:\n",
        "  img_filename1=os.path.basename(mal_path)\n",
        "  destination_path1=os.path.join(mal,img_filename1)\n",
        "  shutil.copy(mal_path,destination_path1)\n"
      ],
      "metadata": {
        "id": "SR7_KnFR8fR8"
      },
      "execution_count": null,
      "outputs": []
    },
    {
      "cell_type": "code",
      "source": [
        "# Define data directory\n",
        "data_dir = '/content/class'\n",
        "\n",
        "# Define image dimensions and batch size\n",
        "image_height = 512\n",
        "image_width = 512\n",
        "batch_size = 32\n",
        ""
      ],
      "metadata": {
        "id": "cLEzkcpC8fPw"
      },
      "execution_count": null,
      "outputs": []
    },
    {
      "cell_type": "code",
      "source": [
        "import tensorflow as tf\n",
        "from tensorflow.keras.layers import Dense, Flatten, BatchNormalization\n",
        "from tensorflow.keras.models import Sequential\n",
        "from tensorflow.keras.optimizers import Adam\n",
        "from tensorflow.keras.applications import MobileNetV2\n",
        "from tensorflow.keras.preprocessing.image import ImageDataGenerator\n",
        "from tensorflow.keras.applications import VGG16\n",
        "from tensorflow.keras.layers import Dense, Flatten, BatchNormalization, Dropout"
      ],
      "metadata": {
        "id": "eRwEkZGO98wy"
      },
      "execution_count": null,
      "outputs": []
    },
    {
      "cell_type": "code",
      "source": [
        "# Data preprocessing\n",
        "datagen = ImageDataGenerator(rescale=1./255, validation_split=0.2)\n",
        "\n",
        "# Generate data batches\n",
        "train_generator = datagen.flow_from_directory(\n",
        "    data_dir,\n",
        "    target_size=(image_height, image_width),\n",
        "    batch_size=batch_size,\n",
        "    class_mode='binary',\n",
        "    subset='training')\n",
        "\n",
        "val_generator = datagen.flow_from_directory(\n",
        "    data_dir,\n",
        "    target_size=(image_height, image_width),\n",
        "    batch_size=batch_size,\n",
        "    class_mode='binary',\n",
        "    subset='validation')\n",
        "\n",
        "target_size=(image_height, image_width)"
      ],
      "metadata": {
        "id": "BRl-5NtU8fNa"
      },
      "execution_count": null,
      "outputs": []
    },
    {
      "cell_type": "code",
      "source": [],
      "metadata": {
        "id": "VadUcFsu8fK-"
      },
      "execution_count": null,
      "outputs": []
    },
    {
      "cell_type": "code",
      "source": [
        "base_model = VGG16(weights=None, include_top=False, input_shape=target_size + (3,))\n",
        "\n",
        "# Freeze the convolutional layers\n",
        "for layer in base_model.layers:\n",
        "    layer.trainable = False\n",
        "\n",
        "# Add custom classification layers\n",
        "model = Sequential([\n",
        "    base_model,\n",
        "    Flatten(),\n",
        "    Dense(512, activation='relu'),\n",
        "    BatchNormalization(),\n",
        "    Dropout(0.5),\n",
        "    Dense(256, activation='relu'),\n",
        "    BatchNormalization(),\n",
        "    Dropout(0.5),\n",
        "    Dense(1, activation='sigmoid')\n",
        "])\n"
      ],
      "metadata": {
        "id": "Gaj0ze848fIo"
      },
      "execution_count": null,
      "outputs": []
    },
    {
      "cell_type": "code",
      "source": [
        "\n",
        "# Compile the model\n",
        "model.compile(optimizer=Adam(), loss='binary_crossentropy', metrics=['accuracy'])\n",
        "\n",
        "# Train the model\n",
        "history = model.fit(\n",
        "    train_generator,\n",
        "    epochs=10,\n",
        "    steps_per_epoch=len(train_generator),\n",
        "    validation_data=val_generator,\n",
        "    validation_steps=len(val_generator)\n",
        ")\n"
      ],
      "metadata": {
        "id": "up_S6-fl-sGV"
      },
      "execution_count": null,
      "outputs": []
    },
    {
      "cell_type": "code",
      "source": [
        "# Evaluate the model\n",
        "loss, accuracy = model.evaluate(val_generator, steps=len(val_generator))\n",
        "print(f'Validation Loss: {loss}, Validation Accuracy: {accuracy}')\n"
      ],
      "metadata": {
        "id": "rd_l-l7p-vyH"
      },
      "execution_count": null,
      "outputs": []
    }
  ],
  "metadata": {
    "colab": {
      "name": "Welcome To Colaboratory",
      "provenance": [],
      "include_colab_link": true
    },
    "kernelspec": {
      "display_name": "Python 3",
      "name": "python3"
    },
    "accelerator": "TPU"
  },
  "nbformat": 4,
  "nbformat_minor": 0
}